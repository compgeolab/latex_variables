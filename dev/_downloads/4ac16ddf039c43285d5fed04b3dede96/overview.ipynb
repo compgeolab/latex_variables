{
  "cells": [
    {
      "cell_type": "code",
      "execution_count": null,
      "metadata": {
        "collapsed": false
      },
      "outputs": [],
      "source": [
        "%matplotlib inline"
      ]
    },
    {
      "cell_type": "markdown",
      "metadata": {},
      "source": [
        "\n\n# Overview\n\nThe ``latex_variables`` package provides functions to convert any numerical\nPython variable to a string that defines a LaTeX variable, which can be\nincluded in your LaTeX document.\nThis avoids the need to manually type the value of the variable into the\ndocument and opens the potential to automatically update its value when the\nPython code that generates it is changed.\n\n## The library\n\nMost functions are available through the :mod:`latex_variables` top level\npackage. Throughout the documentation we'll use ``lv`` as the alias for\n:mod:`latex_variables`.\n"
      ]
    },
    {
      "cell_type": "code",
      "execution_count": null,
      "metadata": {
        "collapsed": false
      },
      "outputs": [],
      "source": [
        "import latex_variables as lv"
      ]
    },
    {
      "cell_type": "markdown",
      "metadata": {},
      "source": [
        "\n## Convert variables\n\nWe can use the :func:`latex_variables.to_latex` to generate the string needed\nto define a LaTeX variable with the same value as the Python variable and\noptional units.\n\nLet's define some height measurement in meters and generate its corresponding\nLaTeX variable. We need to pass a ``name`` for it and because this magntiude\nhas a known unit, we will also pass a value to the ``unit`` argument.\n\n"
      ]
    },
    {
      "cell_type": "code",
      "execution_count": null,
      "metadata": {
        "collapsed": false
      },
      "outputs": [],
      "source": [
        "height = 30\nvariable = lv.to_latex(height, name=\"Height\", unit=\"m\")\nprint(variable)"
      ]
    },
    {
      "cell_type": "markdown",
      "metadata": {},
      "source": [
        "Python floats might have many significant digits that are not needed to\nreport on a LaTeX document, while a round version of it it's sufficient to\nachieve the same purpose. We can specify the format of the numerical value of\nthe variable through the ``fmt`` argument.\n\n"
      ]
    },
    {
      "cell_type": "code",
      "execution_count": null,
      "metadata": {
        "collapsed": false
      },
      "outputs": [],
      "source": [
        "pressure = 101.325\nvariable = lv.to_latex(pressure, name=\"Pressure\", unit=\"kPa\", fmt=\".2f\")\nprint(variable)"
      ]
    }
  ],
  "metadata": {
    "kernelspec": {
      "display_name": "Python 3",
      "language": "python",
      "name": "python3"
    },
    "language_info": {
      "codemirror_mode": {
        "name": "ipython",
        "version": 3
      },
      "file_extension": ".py",
      "mimetype": "text/x-python",
      "name": "python",
      "nbconvert_exporter": "python",
      "pygments_lexer": "ipython3",
      "version": "3.8.7"
    }
  },
  "nbformat": 4,
  "nbformat_minor": 0
}